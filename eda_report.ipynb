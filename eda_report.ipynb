{
 "cells": [
  {
   "cell_type": "markdown",
   "id": "7d6e2880-414c-442b-92ca-18dfc7dbd2c3",
   "metadata": {},
   "source": [
    "# Argentina during Copa América 2024: Web Scraping and Exploratory Data Analysis"
   ]
  },
  {
   "cell_type": "markdown",
   "id": "1ccfbd5e-d486-4747-aa18-67cd57e699fb",
   "metadata": {},
   "source": [
    "## 1. Aims, objectives and background"
   ]
  },
  {
   "cell_type": "markdown",
   "id": "372f3981-6de1-4adf-afca-8baadd00ae4a",
   "metadata": {},
   "source": [
    "### 1.1. Introduction\n",
    "Argentina's national soccer team has emerged as one of the top international teams in history. This project aims to analyze match data from Argentina during the 2024 CONMEBOL Copa América. As a Data Science enthusiast, I am eager to engage with sports data to enhance my skills in data gathering, visualization, and analysis. This project will focus on exploring the statistics of Argentina, the 2024 Copa América champion, through scoping, analyzing, preparing, and plotting data to derive insights from the analysis.\n",
    "\n",
    "### 1.2. Aims and objectives\n",
    "* Get acquainted with the data\n",
    "* Clean the data so it is ready for analysis\n",
    "* Develop some questions for the analysis\n",
    "* Analyze variables within the data to gain patterns and insights on these questions\n",
    "\n",
    "### 1.3. Steps of the project\n",
    "1. Obtain the matches' data by webscraping Sofascore with a request url\n",
    "2. Preprocess data and engineer additional features for analysis\n",
    "3. Exploratory and statistical data analysis, including visualizations\n",
    "4. Conclusions\n",
    "\n",
    "\n",
    "### 1.4. Dataset\n",
    "#### Data selection\n",
    "As this project is particularly focused on sports statistics and visualizations, I found that Sofascore website would be suitable for this purpose.\n",
    "\n",
    "#### Loading the Data\n",
    "First, the necessary libraries are loaded into the notebook. "
   ]
  },
  {
   "cell_type": "code",
   "execution_count": 1,
   "id": "ad701878-ec96-4a66-9f06-d923320847d8",
   "metadata": {},
   "outputs": [],
   "source": [
    "import pandas as pd\n",
    "import numpy as np\n",
    "import csv\n",
    "import os\n",
    "import ast\n",
    "import re\n",
    "\n",
    "# Scraping libraries\n",
    "import requests\n",
    "from scraping_functions import *\n",
    "import logging\n",
    "\n",
    "# Data visualizatoin libraries\n",
    "import matplotlib.pyplot as plt\n",
    "import seaborn as sns\n",
    "from mplsoccer import Pitch\n",
    "\n",
    "# Statistic functions libraries\n",
    "from scipy import stats\n",
    "import math\n",
    "from scipy.stats import pearsonr"
   ]
  },
  {
   "cell_type": "markdown",
   "id": "44bfce24-99f1-417e-a85d-514d0a18b4bd",
   "metadata": {},
   "source": [
    "## 2. Data creation with Sofascore request url\n",
    "Each match's site has its own URL for scraping statistics and shotmap information, so several URLs were needed to create different files for storing the data. Some scraping functions are required first to generate files and dataframes with the desired information."
   ]
  },
  {
   "cell_type": "markdown",
   "id": "72dc6218-e15f-456b-85d0-fd688dc06bed",
   "metadata": {},
   "source": [
    "### 2.1 Functions to gather the data"
   ]
  },
  {
   "cell_type": "code",
   "execution_count": 2,
   "id": "e190238d-afe4-442d-b2ca-ce4732f7bb7d",
   "metadata": {},
   "outputs": [],
   "source": [
    "FULL_MATCH = 'Full Match'\n",
    "FIRST_HALF = 'First Half'\n",
    "SECOND_HALF = 'Second Half'\n",
    "EXTRA_TIME_1 = 'Extra Time 1'\n",
    "EXTRA_TIME_2 = 'Extra Time 2'\n",
    "\n",
    "\n",
    "def write_statistics_to_csv(writer, period, groups):\n",
    "    # writes json data into csv file\n",
    "    for group in groups:\n",
    "        group_name = group['groupName']\n",
    "        for item in group['statisticsItems']:\n",
    "            writer.writerow([period, group_name, item['name'], item['home'], item['away']])\n",
    "\n",
    "\n",
    "def extract_stats(url, filename):\n",
    "    \"\"\" \n",
    "    Get match statistics: Load stats into csv files\n",
    "    \n",
    "    Params:\n",
    "    url: the specific match URL provided from Sofascore to scrape data.\n",
    "    filename: the file name we want to give to our csv\n",
    "\n",
    "    Returns:\n",
    "    Error handling through try/except blocks\n",
    "    \"\"\" \n",
    "    try:\n",
    "        response = requests.get(url)\n",
    "        response.raise_for_status()\n",
    "    except requests.RequestException as error:\n",
    "        logging.error(f\"There has been an error while requesting to {url}: {error}\")\n",
    "        return\n",
    "\n",
    "    try:\n",
    "        data = response.json()\n",
    "        match_stats = data['statistics']\n",
    "    except (ValueError, KeyError) as error:\n",
    "        logging.error(f\"There has been an error while processing JSON data: {error}\")\n",
    "        return\n",
    "\n",
    "    if not match_stats:\n",
    "        logging.warning(f\"No statistics found in the gathered data from {url}\")\n",
    "        return\n",
    "\n",
    "    try:\n",
    "        with open(filename, mode='w', newline='') as file:\n",
    "            writer = csv.writer(file)\n",
    "            writer.writerow(['Period', 'Group', 'Statistic', 'Home', 'Away'])\n",
    "\n",
    "            if len(match_stats) >= 3:\n",
    "                write_statistics_to_csv(writer, FULL_MATCH, match_stats[0]['groups'])\n",
    "                write_statistics_to_csv(writer, FIRST_HALF, match_stats[1]['groups'])\n",
    "                write_statistics_to_csv(writer, SECOND_HALF, match_stats[2]['groups'])\n",
    "\n",
    "            if len(match_stats) == 5:\n",
    "                write_statistics_to_csv(writer, EXTRA_TIME_1, match_stats[3]['groups'])\n",
    "                write_statistics_to_csv(writer, EXTRA_TIME_2, match_stats[4]['groups'])\n",
    "\n",
    "            logging.info(f\"Statistics written succesfully in {filename}\")\n",
    "\n",
    "    except IOError as error:\n",
    "        logging.error(f\"Could not write in file {filename}: {error}\")\n",
    "\n",
    "\n",
    "def extract_shotmap(url, filename):\n",
    "    \"\"\" \n",
    "    Get shotmap stats: Load stats into csv files\n",
    "    Params:\n",
    "\n",
    "    url: the specific match URL provided from Sofascore to scrape data.\n",
    "    filename: the file name we want to give to our csv\n",
    "\n",
    "    Returns:\n",
    "    Error handling messages through try/except blocks\n",
    "    \"\"\" \n",
    "    try:\n",
    "        response = requests.get(url)\n",
    "        response.raise_for_status()\n",
    "    except requests.RequestException as error:\n",
    "        logging.error(f\"There has been an error while requesting {url}: {error}\")\n",
    "        return\n",
    "\n",
    "    try:\n",
    "        data = response.json()\n",
    "        shotmap = data['shotmap']\n",
    "    except (ValueError, KeyError) as error:\n",
    "        logging.error(f\"There has been an error while processing JSON data: {error}\")\n",
    "        return\n",
    "\n",
    "    if not shotmap:\n",
    "        logging.warning(f\"Shotmap data was not found in {url}\")\n",
    "        return\n",
    "\n",
    "    try:\n",
    "        with open(filename, mode='w', newline='', encoding='utf-8') as csvfile:\n",
    "            writer = csv.writer(csvfile)\n",
    "            writer.writerow(['Name', 'Position', 'Outcome', 'Situation', 'Player Coordinates', 'Body Part',\n",
    "                             'Shot Location', 'Shot Coordinates', 'Expected Goal (xG)',\n",
    "                             'Expected Goal on Target (xGOT)'])\n",
    "\n",
    "            for shot in shotmap:\n",
    "                player_name = shot['player'].get('name', '')\n",
    "                player_position = shot['player'].get('position', '')                                \n",
    "                outcome = shot.get('shotType', '')\n",
    "                situation = shot.get('situation', '')\n",
    "                player_coordinates = shot.get('playerCoordinates', {})\n",
    "                body_part = shot.get('bodyPart', '')\n",
    "                shot_location = shot.get('goalMouthLocation', '')\n",
    "                shot_coordinates = shot.get('goalMouthCoordinates', {})\n",
    "                xg = shot.get('xg', 0)\n",
    "                xgot = shot.get('xgot', 0)\n",
    "\n",
    "                writer.writerow([player_name, player_position, jersey_number, outcome, situation, player_coordinates,\n",
    "                                 body_part, shot_location, shot_coordinates, xg, xgot])\n",
    "\n",
    "            logging.info(f\"Shotmap data written succesfully in {filename}\")\n",
    "    except IOError as error:\n",
    "        logging.error(f\"Error while writing in {filename}: {error}\")\n"
   ]
  },
  {
   "cell_type": "markdown",
   "id": "fc503a38-2978-4976-abe9-284847674b20",
   "metadata": {},
   "source": [
    "### 2.2 Loading the data"
   ]
  },
  {
   "cell_type": "code",
   "execution_count": 3,
   "id": "ed6ad5c6-9cd0-4b76-aac9-8c68ac9078d5",
   "metadata": {},
   "outputs": [
    {
     "name": "stderr",
     "output_type": "stream",
     "text": [
      "2024-10-28 20:21:11,524 - INFO - Statistics written succesfully in match1_stats.csv\n",
      "2024-10-28 20:21:12,050 - INFO - Shotmap data written succesfully in match1_shotmap.csv\n",
      "2024-10-28 20:21:12,232 - INFO - Statistics written succesfully in match2_stats.csv\n",
      "2024-10-28 20:21:12,545 - INFO - Shotmap data written succesfully in match2_shotmap.csv\n",
      "2024-10-28 20:21:12,719 - INFO - Statistics written succesfully in match3_stats.csv\n",
      "2024-10-28 20:21:13,049 - INFO - Shotmap data written succesfully in match3_shotmap.csv\n",
      "2024-10-28 20:21:13,233 - INFO - Statistics written succesfully in match4_stats.csv\n",
      "2024-10-28 20:21:13,563 - INFO - Shotmap data written succesfully in match4_shotmap.csv\n",
      "2024-10-28 20:21:13,749 - INFO - Statistics written succesfully in match5_stats.csv\n",
      "2024-10-28 20:21:14,082 - INFO - Shotmap data written succesfully in match5_shotmap.csv\n",
      "2024-10-28 20:21:14,279 - INFO - Statistics written succesfully in match6_stats.csv\n",
      "2024-10-28 20:21:14,610 - INFO - Shotmap data written succesfully in match6_shotmap.csv\n"
     ]
    }
   ],
   "source": [
    "from scraping_functions import *\n",
    "import logging\n",
    "\n",
    "logging.basicConfig(level=logging.INFO, format='%(asctime)s - %(levelname)s - %(message)s')\n",
    "\n",
    "\n",
    "def main():\n",
    "    \n",
    "    data_dicts = [\n",
    "        {\n",
    "            # Argentina vs Canada (2 - 0) - Groups phase\n",
    "            'stats_url': 'https://www.sofascore.com/api/v1/event/11886373/statistics',\n",
    "            'shotmap_url': 'https://www.sofascore.com/api/v1/event/11886373/shotmap',\n",
    "            'stats_filename': 'match1_stats.csv',\n",
    "            'shotmap_filename': 'match1_shotmap.csv'\n",
    "        },\n",
    "        {\n",
    "            # Chile vs Argentina (0 - 1) - Groups phase\n",
    "            'stats_url': 'https://www.sofascore.com/api/v1/event/11886369/statistics',\n",
    "            'shotmap_url': 'https://www.sofascore.com/api/v1/event/11886369/shotmap',\n",
    "            'stats_filename': 'match2_stats.csv',\n",
    "            'shotmap_filename': 'match2_shotmap.csv'\n",
    "        },\n",
    "        {\n",
    "            # Argentina vs Peru (2 - 0) - Groups phase\n",
    "            'stats_url': 'https://www.sofascore.com/api/v1/event/11886396/statistics',\n",
    "            'shotmap_url': 'https://www.sofascore.com/api/v1/event/11886396/shotmap',\n",
    "            'stats_filename': 'match3_stats.csv',\n",
    "            'shotmap_filename': 'match3_shotmap.csv'\n",
    "        },\n",
    "        {\n",
    "            # Argentina vs Ecuador (1 - 1)(Penalties: 4 - 2) - Quarter finals\n",
    "            'stats_url': 'https://www.sofascore.com/api/v1/event/11886594/statistics',\n",
    "            'shotmap_url': 'https://www.sofascore.com/api/v1/event/11886594/shotmap',\n",
    "            'stats_filename': 'match4_stats.csv',\n",
    "            'shotmap_filename': 'match4_shotmap.csv'\n",
    "        },\n",
    "        {\n",
    "            # Argentina vs Canada (2 - 0) - Semi finals\n",
    "            'stats_url': 'https://www.sofascore.com/api/v1/event/11886259/statistics',\n",
    "            'shotmap_url': 'https://www.sofascore.com/api/v1/event/11886259/shotmap',\n",
    "            'stats_filename': 'match5_stats.csv',\n",
    "            'shotmap_filename': 'match5_shotmap.csv'\n",
    "        },\n",
    "        {\n",
    "            # Argentina vs Colombia (1 - 0) - Final\n",
    "            'stats_url': 'https://www.sofascore.com/api/v1/event/11886600/statistics',\n",
    "            'shotmap_url': 'https://www.sofascore.com/api/v1/event/11886600/shotmap',\n",
    "            'stats_filename': 'match6_stats.csv',\n",
    "            'shotmap_filename': 'match6_shotmap.csv'\n",
    "        }\n",
    "    ]\n",
    "\n",
    "    try:\n",
    "        for match_data in data_dicts:\n",
    "            extract_stats(match_data['stats_url'], match_data['stats_filename'])\n",
    "            extract_shotmap(match_data['shotmap_url'], match_data['shotmap_filename'])\n",
    "    except Exception as error:\n",
    "        logging.error(f\"An unexpected error ocurred: {error}\")\n",
    "\n",
    "\n",
    "if __name__ == \"__main__\":\n",
    "    main()\n"
   ]
  },
  {
   "cell_type": "markdown",
   "id": "b8d63bd7-bbc1-4554-82bc-7737a370033b",
   "metadata": {},
   "source": [
    "#### Concatenate CSV files into a single DF"
   ]
  },
  {
   "cell_type": "code",
   "execution_count": 4,
   "id": "4d248dc2-46a9-4bf3-b738-4f5019346969",
   "metadata": {},
   "outputs": [],
   "source": [
    "directory = r\"C:\\Users\\diego\\Sports Analytics\\Beginner_Projects\\Argentina_CopaAmerica2024\"\n",
    "\n",
    "stats_dfs = []\n",
    "shotmap_dfs = []\n",
    "\n",
    "filenames = os.listdir(directory)\n",
    "for filename in filenames:\n",
    "    filepath = os.path.join(directory, filename)  # Full path to the file\n",
    "    \n",
    "    \n",
    "    match_id = filename.split('_')[0]  # Extracts 'match1', 'match2', etc.\n",
    "    \n",
    "    if 'stats' in filename.lower() and filename.endswith('.csv'):\n",
    "        df = pd.read_csv(filepath)  \n",
    "        df['match_id'] = match_id[5]\n",
    "        stats_dfs.append(df)  \n",
    "    \n",
    "    elif 'shotmap' in filename.lower() and filename.endswith('.csv'):\n",
    "        df = pd.read_csv(filepath)\n",
    "        df['match_id'] = match_id[5] \n",
    "        shotmap_dfs.append(df)  \n",
    "\n",
    "stats_concatenated_df = pd.concat(stats_dfs, ignore_index=True)\n",
    "shotmaps_concatenated_df = pd.concat(shotmap_dfs, ignore_index=True)"
   ]
  },
  {
   "cell_type": "markdown",
   "id": "2327af5e-6770-4593-ba5b-55d04008ca58",
   "metadata": {},
   "source": [
    "### 2.3 Data Inspection & Cleansing"
   ]
  },
  {
   "cell_type": "code",
   "execution_count": 5,
   "id": "d51d3010-5eb7-4df1-81ea-e1312f745ba0",
   "metadata": {},
   "outputs": [
    {
     "data": {
      "text/html": [
       "<div>\n",
       "<style scoped>\n",
       "    .dataframe tbody tr th:only-of-type {\n",
       "        vertical-align: middle;\n",
       "    }\n",
       "\n",
       "    .dataframe tbody tr th {\n",
       "        vertical-align: top;\n",
       "    }\n",
       "\n",
       "    .dataframe thead th {\n",
       "        text-align: right;\n",
       "    }\n",
       "</style>\n",
       "<table border=\"1\" class=\"dataframe\">\n",
       "  <thead>\n",
       "    <tr style=\"text-align: right;\">\n",
       "      <th></th>\n",
       "      <th>Period</th>\n",
       "      <th>Group</th>\n",
       "      <th>Statistic</th>\n",
       "      <th>Home</th>\n",
       "      <th>Away</th>\n",
       "      <th>match_id</th>\n",
       "    </tr>\n",
       "  </thead>\n",
       "  <tbody>\n",
       "    <tr>\n",
       "      <th>0</th>\n",
       "      <td>Full Match</td>\n",
       "      <td>Match overview</td>\n",
       "      <td>Ball possession</td>\n",
       "      <td>64%</td>\n",
       "      <td>36%</td>\n",
       "      <td>1</td>\n",
       "    </tr>\n",
       "    <tr>\n",
       "      <th>1</th>\n",
       "      <td>Full Match</td>\n",
       "      <td>Match overview</td>\n",
       "      <td>Expected goals</td>\n",
       "      <td>3.02</td>\n",
       "      <td>1.16</td>\n",
       "      <td>1</td>\n",
       "    </tr>\n",
       "    <tr>\n",
       "      <th>2</th>\n",
       "      <td>Full Match</td>\n",
       "      <td>Match overview</td>\n",
       "      <td>Big chances</td>\n",
       "      <td>9</td>\n",
       "      <td>2</td>\n",
       "      <td>1</td>\n",
       "    </tr>\n",
       "    <tr>\n",
       "      <th>3</th>\n",
       "      <td>Full Match</td>\n",
       "      <td>Match overview</td>\n",
       "      <td>Total shots</td>\n",
       "      <td>19</td>\n",
       "      <td>10</td>\n",
       "      <td>1</td>\n",
       "    </tr>\n",
       "    <tr>\n",
       "      <th>4</th>\n",
       "      <td>Full Match</td>\n",
       "      <td>Match overview</td>\n",
       "      <td>Goalkeeper saves</td>\n",
       "      <td>2</td>\n",
       "      <td>6</td>\n",
       "      <td>1</td>\n",
       "    </tr>\n",
       "    <tr>\n",
       "      <th>...</th>\n",
       "      <td>...</td>\n",
       "      <td>...</td>\n",
       "      <td>...</td>\n",
       "      <td>...</td>\n",
       "      <td>...</td>\n",
       "      <td>...</td>\n",
       "    </tr>\n",
       "    <tr>\n",
       "      <th>804</th>\n",
       "      <td>Extra Time 2</td>\n",
       "      <td>Defending</td>\n",
       "      <td>Interceptions</td>\n",
       "      <td>2</td>\n",
       "      <td>1</td>\n",
       "      <td>6</td>\n",
       "    </tr>\n",
       "    <tr>\n",
       "      <th>805</th>\n",
       "      <td>Extra Time 2</td>\n",
       "      <td>Defending</td>\n",
       "      <td>Recoveries</td>\n",
       "      <td>10</td>\n",
       "      <td>8</td>\n",
       "      <td>6</td>\n",
       "    </tr>\n",
       "    <tr>\n",
       "      <th>806</th>\n",
       "      <td>Extra Time 2</td>\n",
       "      <td>Defending</td>\n",
       "      <td>Clearances</td>\n",
       "      <td>9</td>\n",
       "      <td>1</td>\n",
       "      <td>6</td>\n",
       "    </tr>\n",
       "    <tr>\n",
       "      <th>807</th>\n",
       "      <td>Extra Time 2</td>\n",
       "      <td>Goalkeeping</td>\n",
       "      <td>Total saves</td>\n",
       "      <td>0</td>\n",
       "      <td>0</td>\n",
       "      <td>6</td>\n",
       "    </tr>\n",
       "    <tr>\n",
       "      <th>808</th>\n",
       "      <td>Extra Time 2</td>\n",
       "      <td>Goalkeeping</td>\n",
       "      <td>Goal kicks</td>\n",
       "      <td>2</td>\n",
       "      <td>2</td>\n",
       "      <td>6</td>\n",
       "    </tr>\n",
       "  </tbody>\n",
       "</table>\n",
       "<p>809 rows × 6 columns</p>\n",
       "</div>"
      ],
      "text/plain": [
       "           Period           Group         Statistic  Home  Away match_id\n",
       "0      Full Match  Match overview   Ball possession   64%   36%        1\n",
       "1      Full Match  Match overview    Expected goals  3.02  1.16        1\n",
       "2      Full Match  Match overview       Big chances     9     2        1\n",
       "3      Full Match  Match overview       Total shots    19    10        1\n",
       "4      Full Match  Match overview  Goalkeeper saves     2     6        1\n",
       "..            ...             ...               ...   ...   ...      ...\n",
       "804  Extra Time 2       Defending     Interceptions     2     1        6\n",
       "805  Extra Time 2       Defending        Recoveries    10     8        6\n",
       "806  Extra Time 2       Defending        Clearances     9     1        6\n",
       "807  Extra Time 2     Goalkeeping       Total saves     0     0        6\n",
       "808  Extra Time 2     Goalkeeping        Goal kicks     2     2        6\n",
       "\n",
       "[809 rows x 6 columns]"
      ]
     },
     "execution_count": 5,
     "metadata": {},
     "output_type": "execute_result"
    }
   ],
   "source": [
    "stats_concatenated_df"
   ]
  },
  {
   "cell_type": "code",
   "execution_count": 6,
   "id": "97bbc4d9-86d4-4701-89db-46ac16adb2c5",
   "metadata": {},
   "outputs": [],
   "source": [
    "# Argentina was named a visitor in match 2, so we need to switch the 'Home' and 'Away' data in that field\n",
    "stats_concatenated_df.loc[stats_concatenated_df['match_id'] == '2', ['Home', 'Away']] = stats_concatenated_df.loc[stats_concatenated_df['match_id'] == '2', ['Away', 'Home']].values\n"
   ]
  },
  {
   "cell_type": "code",
   "execution_count": 7,
   "id": "86a31e97-4102-4a27-bc79-5052745eba81",
   "metadata": {},
   "outputs": [
    {
     "name": "stdout",
     "output_type": "stream",
     "text": [
      "<class 'pandas.core.frame.DataFrame'>\n",
      "RangeIndex: 809 entries, 0 to 808\n",
      "Data columns (total 6 columns):\n",
      " #   Column     Non-Null Count  Dtype \n",
      "---  ------     --------------  ----- \n",
      " 0   Period     809 non-null    object\n",
      " 1   Group      809 non-null    object\n",
      " 2   Statistic  809 non-null    object\n",
      " 3   Home       809 non-null    object\n",
      " 4   Away       809 non-null    object\n",
      " 5   match_id   809 non-null    object\n",
      "dtypes: object(6)\n",
      "memory usage: 38.1+ KB\n"
     ]
    }
   ],
   "source": [
    "stats_concatenated_df.info()"
   ]
  },
  {
   "cell_type": "code",
   "execution_count": 8,
   "id": "6dd277ff-30f9-480c-b3e7-f2c02f56308a",
   "metadata": {},
   "outputs": [
    {
     "data": {
      "text/plain": [
       "Period       False\n",
       "Group        False\n",
       "Statistic    False\n",
       "Home         False\n",
       "Away         False\n",
       "match_id     False\n",
       "dtype: bool"
      ]
     },
     "execution_count": 8,
     "metadata": {},
     "output_type": "execute_result"
    }
   ],
   "source": [
    "stats_concatenated_df.isnull().any()"
   ]
  },
  {
   "cell_type": "code",
   "execution_count": 9,
   "id": "1e7f3c98-4769-40a6-b8d5-20b40257f03e",
   "metadata": {},
   "outputs": [
    {
     "data": {
      "text/plain": [
       "0"
      ]
     },
     "execution_count": 9,
     "metadata": {},
     "output_type": "execute_result"
    }
   ],
   "source": [
    "stats_concatenated_df.duplicated().sum()"
   ]
  },
  {
   "cell_type": "markdown",
   "id": "92e2a7e3-f470-4d12-9184-f841b4292954",
   "metadata": {},
   "source": [
    "#### There is no duplicated nor missing data"
   ]
  },
  {
   "cell_type": "code",
   "execution_count": 10,
   "id": "7c9c3daf-f3ca-4e98-96f3-c92611183182",
   "metadata": {},
   "outputs": [
    {
     "data": {
      "text/html": [
       "<div>\n",
       "<style scoped>\n",
       "    .dataframe tbody tr th:only-of-type {\n",
       "        vertical-align: middle;\n",
       "    }\n",
       "\n",
       "    .dataframe tbody tr th {\n",
       "        vertical-align: top;\n",
       "    }\n",
       "\n",
       "    .dataframe thead th {\n",
       "        text-align: right;\n",
       "    }\n",
       "</style>\n",
       "<table border=\"1\" class=\"dataframe\">\n",
       "  <thead>\n",
       "    <tr style=\"text-align: right;\">\n",
       "      <th></th>\n",
       "      <th>Period</th>\n",
       "      <th>Group</th>\n",
       "      <th>Statistic</th>\n",
       "      <th>Home</th>\n",
       "      <th>Away</th>\n",
       "      <th>match_id</th>\n",
       "    </tr>\n",
       "  </thead>\n",
       "  <tbody>\n",
       "    <tr>\n",
       "      <th>count</th>\n",
       "      <td>809</td>\n",
       "      <td>809</td>\n",
       "      <td>809</td>\n",
       "      <td>809</td>\n",
       "      <td>809</td>\n",
       "      <td>809</td>\n",
       "    </tr>\n",
       "    <tr>\n",
       "      <th>unique</th>\n",
       "      <td>5</td>\n",
       "      <td>7</td>\n",
       "      <td>45</td>\n",
       "      <td>226</td>\n",
       "      <td>223</td>\n",
       "      <td>6</td>\n",
       "    </tr>\n",
       "    <tr>\n",
       "      <th>top</th>\n",
       "      <td>Full Match</td>\n",
       "      <td>Match overview</td>\n",
       "      <td>Total shots</td>\n",
       "      <td>0</td>\n",
       "      <td>0</td>\n",
       "      <td>6</td>\n",
       "    </tr>\n",
       "    <tr>\n",
       "      <th>freq</th>\n",
       "      <td>263</td>\n",
       "      <td>206</td>\n",
       "      <td>40</td>\n",
       "      <td>99</td>\n",
       "      <td>122</td>\n",
       "      <td>201</td>\n",
       "    </tr>\n",
       "  </tbody>\n",
       "</table>\n",
       "</div>"
      ],
      "text/plain": [
       "            Period           Group    Statistic Home Away match_id\n",
       "count          809             809          809  809  809      809\n",
       "unique           5               7           45  226  223        6\n",
       "top     Full Match  Match overview  Total shots    0    0        6\n",
       "freq           263             206           40   99  122      201"
      ]
     },
     "execution_count": 10,
     "metadata": {},
     "output_type": "execute_result"
    }
   ],
   "source": [
    "stats_concatenated_df.describe()"
   ]
  },
  {
   "cell_type": "code",
   "execution_count": 11,
   "id": "400bafe3-a395-47e1-aee3-c52a953eed4d",
   "metadata": {},
   "outputs": [
    {
     "data": {
      "text/plain": [
       "(809, 6)"
      ]
     },
     "execution_count": 11,
     "metadata": {},
     "output_type": "execute_result"
    }
   ],
   "source": [
    "stats_concatenated_df.shape"
   ]
  },
  {
   "cell_type": "code",
   "execution_count": 12,
   "id": "27f87b53-7ad5-47a0-95ba-f4e1e0f1fcbe",
   "metadata": {},
   "outputs": [
    {
     "data": {
      "text/html": [
       "<div>\n",
       "<style scoped>\n",
       "    .dataframe tbody tr th:only-of-type {\n",
       "        vertical-align: middle;\n",
       "    }\n",
       "\n",
       "    .dataframe tbody tr th {\n",
       "        vertical-align: top;\n",
       "    }\n",
       "\n",
       "    .dataframe thead th {\n",
       "        text-align: right;\n",
       "    }\n",
       "</style>\n",
       "<table border=\"1\" class=\"dataframe\">\n",
       "  <thead>\n",
       "    <tr style=\"text-align: right;\">\n",
       "      <th></th>\n",
       "      <th>Name</th>\n",
       "      <th>Position</th>\n",
       "      <th>Outcome</th>\n",
       "      <th>Situation</th>\n",
       "      <th>Player Coordinates</th>\n",
       "      <th>Body Part</th>\n",
       "      <th>Shot Location</th>\n",
       "      <th>Shot Coordinates</th>\n",
       "      <th>Expected Goal (xG)</th>\n",
       "      <th>Expected Goal on Target (xGOT)</th>\n",
       "      <th>match_id</th>\n",
       "    </tr>\n",
       "  </thead>\n",
       "  <tbody>\n",
       "    <tr>\n",
       "      <th>0</th>\n",
       "      <td>Lionel Messi</td>\n",
       "      <td>F</td>\n",
       "      <td>save</td>\n",
       "      <td>free-kick</td>\n",
       "      <td>{'x': 23.5, 'y': 57.3, 'z': 0}</td>\n",
       "      <td>left-foot</td>\n",
       "      <td>high-right</td>\n",
       "      <td>{'x': 0, 'y': 47.2, 'z': 24.7}</td>\n",
       "      <td>0.071207</td>\n",
       "      <td>0.2324</td>\n",
       "      <td>1</td>\n",
       "    </tr>\n",
       "    <tr>\n",
       "      <th>1</th>\n",
       "      <td>Jacob Shaffelburg</td>\n",
       "      <td>M</td>\n",
       "      <td>save</td>\n",
       "      <td>set-piece</td>\n",
       "      <td>{'x': 23.3, 'y': 68.7, 'z': 0}</td>\n",
       "      <td>left-foot</td>\n",
       "      <td>low-centre</td>\n",
       "      <td>{'x': 0, 'y': 48.9, 'z': 2.5}</td>\n",
       "      <td>0.023184</td>\n",
       "      <td>0.0416</td>\n",
       "      <td>1</td>\n",
       "    </tr>\n",
       "    <tr>\n",
       "      <th>2</th>\n",
       "      <td>Lautaro Martínez</td>\n",
       "      <td>F</td>\n",
       "      <td>goal</td>\n",
       "      <td>assisted</td>\n",
       "      <td>{'x': 11.1, 'y': 57.1, 'z': 0}</td>\n",
       "      <td>right-foot</td>\n",
       "      <td>low-centre</td>\n",
       "      <td>{'x': 0, 'y': 49, 'z': 3.8}</td>\n",
       "      <td>0.594084</td>\n",
       "      <td>0.6147</td>\n",
       "      <td>1</td>\n",
       "    </tr>\n",
       "    <tr>\n",
       "      <th>3</th>\n",
       "      <td>Nicolás Otamendi</td>\n",
       "      <td>D</td>\n",
       "      <td>miss</td>\n",
       "      <td>set-piece</td>\n",
       "      <td>{'x': 3.3, 'y': 49.8, 'z': 0}</td>\n",
       "      <td>left-foot</td>\n",
       "      <td>high</td>\n",
       "      <td>{'x': 0, 'y': 50.4, 'z': 62.5}</td>\n",
       "      <td>0.345816</td>\n",
       "      <td>0.0000</td>\n",
       "      <td>1</td>\n",
       "    </tr>\n",
       "    <tr>\n",
       "      <th>4</th>\n",
       "      <td>Lautaro Martínez</td>\n",
       "      <td>F</td>\n",
       "      <td>save</td>\n",
       "      <td>assisted</td>\n",
       "      <td>{'x': 15.7, 'y': 43.2, 'z': 0}</td>\n",
       "      <td>right-foot</td>\n",
       "      <td>low-centre</td>\n",
       "      <td>{'x': 0, 'y': 49.7, 'z': 1.9}</td>\n",
       "      <td>0.401235</td>\n",
       "      <td>0.1469</td>\n",
       "      <td>1</td>\n",
       "    </tr>\n",
       "  </tbody>\n",
       "</table>\n",
       "</div>"
      ],
      "text/plain": [
       "                Name Position Outcome  Situation  \\\n",
       "0       Lionel Messi        F    save  free-kick   \n",
       "1  Jacob Shaffelburg        M    save  set-piece   \n",
       "2   Lautaro Martínez        F    goal   assisted   \n",
       "3   Nicolás Otamendi        D    miss  set-piece   \n",
       "4   Lautaro Martínez        F    save   assisted   \n",
       "\n",
       "               Player Coordinates   Body Part Shot Location  \\\n",
       "0  {'x': 23.5, 'y': 57.3, 'z': 0}   left-foot    high-right   \n",
       "1  {'x': 23.3, 'y': 68.7, 'z': 0}   left-foot    low-centre   \n",
       "2  {'x': 11.1, 'y': 57.1, 'z': 0}  right-foot    low-centre   \n",
       "3   {'x': 3.3, 'y': 49.8, 'z': 0}   left-foot          high   \n",
       "4  {'x': 15.7, 'y': 43.2, 'z': 0}  right-foot    low-centre   \n",
       "\n",
       "                 Shot Coordinates  Expected Goal (xG)  \\\n",
       "0  {'x': 0, 'y': 47.2, 'z': 24.7}            0.071207   \n",
       "1   {'x': 0, 'y': 48.9, 'z': 2.5}            0.023184   \n",
       "2     {'x': 0, 'y': 49, 'z': 3.8}            0.594084   \n",
       "3  {'x': 0, 'y': 50.4, 'z': 62.5}            0.345816   \n",
       "4   {'x': 0, 'y': 49.7, 'z': 1.9}            0.401235   \n",
       "\n",
       "   Expected Goal on Target (xGOT) match_id  \n",
       "0                          0.2324        1  \n",
       "1                          0.0416        1  \n",
       "2                          0.6147        1  \n",
       "3                          0.0000        1  \n",
       "4                          0.1469        1  "
      ]
     },
     "execution_count": 12,
     "metadata": {},
     "output_type": "execute_result"
    }
   ],
   "source": [
    "shotmaps_concatenated_df.head()"
   ]
  },
  {
   "cell_type": "code",
   "execution_count": 13,
   "id": "e35fcad3-cdcc-4e70-8ff5-d0a798893488",
   "metadata": {},
   "outputs": [
    {
     "name": "stdout",
     "output_type": "stream",
     "text": [
      "<class 'pandas.core.frame.DataFrame'>\n",
      "RangeIndex: 148 entries, 0 to 147\n",
      "Data columns (total 11 columns):\n",
      " #   Column                          Non-Null Count  Dtype  \n",
      "---  ------                          --------------  -----  \n",
      " 0   Name                            148 non-null    object \n",
      " 1   Position                        148 non-null    object \n",
      " 2   Outcome                         148 non-null    object \n",
      " 3   Situation                       148 non-null    object \n",
      " 4   Player Coordinates              148 non-null    object \n",
      " 5   Body Part                       148 non-null    object \n",
      " 6   Shot Location                   148 non-null    object \n",
      " 7   Shot Coordinates                148 non-null    object \n",
      " 8   Expected Goal (xG)              148 non-null    float64\n",
      " 9   Expected Goal on Target (xGOT)  148 non-null    float64\n",
      " 10  match_id                        148 non-null    object \n",
      "dtypes: float64(2), object(9)\n",
      "memory usage: 12.8+ KB\n"
     ]
    }
   ],
   "source": [
    "shotmaps_concatenated_df.info()"
   ]
  },
  {
   "cell_type": "code",
   "execution_count": 14,
   "id": "b47de64a-dbbb-42f3-84c3-3f989706bc2d",
   "metadata": {},
   "outputs": [
    {
     "data": {
      "text/plain": [
       "Name                              False\n",
       "Position                          False\n",
       "Outcome                           False\n",
       "Situation                         False\n",
       "Player Coordinates                False\n",
       "Body Part                         False\n",
       "Shot Location                     False\n",
       "Shot Coordinates                  False\n",
       "Expected Goal (xG)                False\n",
       "Expected Goal on Target (xGOT)    False\n",
       "match_id                          False\n",
       "dtype: bool"
      ]
     },
     "execution_count": 14,
     "metadata": {},
     "output_type": "execute_result"
    }
   ],
   "source": [
    "shotmaps_concatenated_df.isnull().any()"
   ]
  },
  {
   "cell_type": "code",
   "execution_count": 15,
   "id": "c4ab8238-7ed1-4518-b6a4-c98f33e26953",
   "metadata": {},
   "outputs": [
    {
     "data": {
      "text/plain": [
       "0"
      ]
     },
     "execution_count": 15,
     "metadata": {},
     "output_type": "execute_result"
    }
   ],
   "source": [
    "shotmaps_concatenated_df.duplicated().sum()"
   ]
  },
  {
   "cell_type": "code",
   "execution_count": 16,
   "id": "5b66dd8b-2b30-43b1-b6b1-9133e302bfce",
   "metadata": {},
   "outputs": [
    {
     "data": {
      "text/html": [
       "<div>\n",
       "<style scoped>\n",
       "    .dataframe tbody tr th:only-of-type {\n",
       "        vertical-align: middle;\n",
       "    }\n",
       "\n",
       "    .dataframe tbody tr th {\n",
       "        vertical-align: top;\n",
       "    }\n",
       "\n",
       "    .dataframe thead th {\n",
       "        text-align: right;\n",
       "    }\n",
       "</style>\n",
       "<table border=\"1\" class=\"dataframe\">\n",
       "  <thead>\n",
       "    <tr style=\"text-align: right;\">\n",
       "      <th></th>\n",
       "      <th>Expected Goal (xG)</th>\n",
       "      <th>Expected Goal on Target (xGOT)</th>\n",
       "    </tr>\n",
       "  </thead>\n",
       "  <tbody>\n",
       "    <tr>\n",
       "      <th>count</th>\n",
       "      <td>148.000000</td>\n",
       "      <td>148.000000</td>\n",
       "    </tr>\n",
       "    <tr>\n",
       "      <th>mean</th>\n",
       "      <td>0.165239</td>\n",
       "      <td>0.143372</td>\n",
       "    </tr>\n",
       "    <tr>\n",
       "      <th>std</th>\n",
       "      <td>0.223223</td>\n",
       "      <td>0.285739</td>\n",
       "    </tr>\n",
       "    <tr>\n",
       "      <th>min</th>\n",
       "      <td>0.007839</td>\n",
       "      <td>0.000000</td>\n",
       "    </tr>\n",
       "    <tr>\n",
       "      <th>25%</th>\n",
       "      <td>0.029236</td>\n",
       "      <td>0.000000</td>\n",
       "    </tr>\n",
       "    <tr>\n",
       "      <th>50%</th>\n",
       "      <td>0.059633</td>\n",
       "      <td>0.000000</td>\n",
       "    </tr>\n",
       "    <tr>\n",
       "      <th>75%</th>\n",
       "      <td>0.174314</td>\n",
       "      <td>0.104500</td>\n",
       "    </tr>\n",
       "    <tr>\n",
       "      <th>max</th>\n",
       "      <td>0.788400</td>\n",
       "      <td>0.996100</td>\n",
       "    </tr>\n",
       "  </tbody>\n",
       "</table>\n",
       "</div>"
      ],
      "text/plain": [
       "       Expected Goal (xG)  Expected Goal on Target (xGOT)\n",
       "count          148.000000                      148.000000\n",
       "mean             0.165239                        0.143372\n",
       "std              0.223223                        0.285739\n",
       "min              0.007839                        0.000000\n",
       "25%              0.029236                        0.000000\n",
       "50%              0.059633                        0.000000\n",
       "75%              0.174314                        0.104500\n",
       "max              0.788400                        0.996100"
      ]
     },
     "execution_count": 16,
     "metadata": {},
     "output_type": "execute_result"
    }
   ],
   "source": [
    "shotmaps_concatenated_df.describe()"
   ]
  },
  {
   "cell_type": "code",
   "execution_count": 17,
   "id": "2cdc1efd-a885-42d8-b12f-1affc6c2ac71",
   "metadata": {},
   "outputs": [
    {
     "data": {
      "text/plain": [
       "(148, 11)"
      ]
     },
     "execution_count": 17,
     "metadata": {},
     "output_type": "execute_result"
    }
   ],
   "source": [
    "shotmaps_concatenated_df.shape"
   ]
  },
  {
   "cell_type": "code",
   "execution_count": 18,
   "id": "2a439c27-2a77-44d3-867d-91902788ea52",
   "metadata": {},
   "outputs": [
    {
     "name": "stdout",
     "output_type": "stream",
     "text": [
      "Number of match stats: 45\n",
      "\n",
      "Match Stats:\n",
      "\n",
      "Ball possession\n",
      "Expected goals\n",
      "Big chances\n",
      "Total shots\n",
      "Goalkeeper saves\n",
      "Corner kicks\n",
      "Fouls\n",
      "Passes\n",
      "Tackles\n",
      "Free kicks\n",
      "Yellow cards\n",
      "Shots on target\n",
      "Hit woodwork\n",
      "Shots off target\n",
      "Blocked shots\n",
      "Shots inside box\n",
      "Shots outside box\n",
      "Big chances scored\n",
      "Big chances missed\n",
      "Through balls\n",
      "Touches in penalty area\n",
      "Fouled in final third\n",
      "Offsides\n",
      "Accurate passes\n",
      "Throw-ins\n",
      "Final third entries\n",
      "Final third phase\n",
      "Long balls\n",
      "Crosses\n",
      "Duels\n",
      "Dispossessed\n",
      "Ground duels\n",
      "Aerial duels\n",
      "Dribbles\n",
      "Tackles won\n",
      "Total tackles\n",
      "Interceptions\n",
      "Recoveries\n",
      "Clearances\n",
      "Total saves\n",
      "Goals prevented\n",
      "High claims\n",
      "Goal kicks\n",
      "Errors lead to a shot\n",
      "Big saves\n"
     ]
    }
   ],
   "source": [
    "print(f\"Number of match stats: {stats_concatenated_df.Statistic.nunique()}\\n\")\n",
    "print(f\"Match Stats:\\n\")\n",
    "for stat in stats_concatenated_df.Statistic.unique():\n",
    "    print(stat)"
   ]
  },
  {
   "cell_type": "code",
   "execution_count": 19,
   "id": "4628305b-9a9a-406d-b08c-ebc8bdddfc11",
   "metadata": {},
   "outputs": [
    {
     "name": "stdout",
     "output_type": "stream",
     "text": [
      "Columns in shotmap dataframe: 11\n",
      "\n",
      "Shotmap columns:\n",
      "Name\n",
      "Position\n",
      "Outcome\n",
      "Situation\n",
      "Player Coordinates\n",
      "Body Part\n",
      "Shot Location\n",
      "Shot Coordinates\n",
      "Expected Goal (xG)\n",
      "Expected Goal on Target (xGOT)\n",
      "match_id\n"
     ]
    }
   ],
   "source": [
    "print(f\"Columns in shotmap dataframe: {len(shotmaps_concatenated_df.columns)}\\n\")\n",
    "print(f\"Shotmap columns:\")\n",
    "for column in shotmaps_concatenated_df.columns:\n",
    "    print(column)"
   ]
  },
  {
   "cell_type": "markdown",
   "id": "2b465cb9-791f-4f5b-bdcb-e75813aa4d43",
   "metadata": {},
   "source": [
    "*Converting object columns into floats*"
   ]
  },
  {
   "cell_type": "code",
   "execution_count": 20,
   "id": "c4598ad3-8574-4211-a494-4a9b4bb63f90",
   "metadata": {},
   "outputs": [
    {
     "data": {
      "text/plain": [
       "Period        object\n",
       "Group         object\n",
       "Statistic     object\n",
       "Home         float64\n",
       "Away         float64\n",
       "match_id      object\n",
       "dtype: object"
      ]
     },
     "execution_count": 20,
     "metadata": {},
     "output_type": "execute_result"
    }
   ],
   "source": [
    "def extract_percentage(value):\n",
    "    \n",
    "    match1 = re.search(r'\\((\\d+)%\\)', str(value))  \n",
    "    match2 = re.search(r'(\\d+)%', str(value))\n",
    "    if match1:\n",
    "        return float(match1.group(1))  \n",
    "\n",
    "    if match2:\n",
    "        return float(match2.group(1))  \n",
    "        \n",
    "    return float(value)\n",
    "\n",
    "\n",
    "stats_concatenated_df['Home'] = stats_concatenated_df['Home'].apply(extract_percentage)\n",
    "stats_concatenated_df['Away'] = stats_concatenated_df['Away'].apply(extract_percentage)\n",
    "stats_concatenated_df[0:50]\n",
    "stats_concatenated_df.dtypes"
   ]
  },
  {
   "cell_type": "code",
   "execution_count": 21,
   "id": "caa565ed-d8ea-4668-bcdf-d1d554ea93da",
   "metadata": {},
   "outputs": [
    {
     "data": {
      "text/plain": [
       "Name                               object\n",
       "Position                           object\n",
       "Outcome                            object\n",
       "Situation                          object\n",
       "Player Coordinates                 object\n",
       "Body Part                          object\n",
       "Shot Location                      object\n",
       "Shot Coordinates                   object\n",
       "Expected Goal (xG)                float64\n",
       "Expected Goal on Target (xGOT)    float64\n",
       "match_id                           object\n",
       "dtype: object"
      ]
     },
     "execution_count": 21,
     "metadata": {},
     "output_type": "execute_result"
    }
   ],
   "source": [
    "shotmaps_concatenated_df.dtypes"
   ]
  },
  {
   "cell_type": "code",
   "execution_count": 22,
   "id": "d5d8f02f-2a21-415c-9eac-d648f039a206",
   "metadata": {},
   "outputs": [
    {
     "data": {
      "text/plain": [
       "0      {'x': 23.5, 'y': 57.3, 'z': 0}\n",
       "1      {'x': 23.3, 'y': 68.7, 'z': 0}\n",
       "2      {'x': 11.1, 'y': 57.1, 'z': 0}\n",
       "3       {'x': 3.3, 'y': 49.8, 'z': 0}\n",
       "4      {'x': 15.7, 'y': 43.2, 'z': 0}\n",
       "                    ...              \n",
       "143    {'x': 13.3, 'y': 45.2, 'z': 0}\n",
       "144       {'x': 7, 'y': 48.5, 'z': 0}\n",
       "145      {'x': 13, 'y': 59.3, 'z': 0}\n",
       "146    {'x': 23.1, 'y': 31.5, 'z': 0}\n",
       "147      {'x': 13.6, 'y': 53, 'z': 0}\n",
       "Name: Player Coordinates, Length: 148, dtype: object"
      ]
     },
     "execution_count": 22,
     "metadata": {},
     "output_type": "execute_result"
    }
   ],
   "source": [
    "# looks like player coordinates are stored in a dictionary\n",
    "shotmaps_concatenated_df['Player Coordinates']"
   ]
  },
  {
   "cell_type": "code",
   "execution_count": 23,
   "id": "cd06d365-7db6-47a9-99f2-992d8da949f4",
   "metadata": {},
   "outputs": [
    {
     "data": {
      "text/plain": [
       "\"{'x': 23.5, 'y': 57.3, 'z': 0}\""
      ]
     },
     "execution_count": 23,
     "metadata": {},
     "output_type": "execute_result"
    }
   ],
   "source": [
    "# it is actually a string\n",
    "shotmaps_concatenated_df['Player Coordinates'][0]"
   ]
  },
  {
   "cell_type": "code",
   "execution_count": 24,
   "id": "45e1295f-54c2-4377-b5a6-be9d5e0f2706",
   "metadata": {},
   "outputs": [
    {
     "data": {
      "text/plain": [
       "':'"
      ]
     },
     "execution_count": 24,
     "metadata": {},
     "output_type": "execute_result"
    }
   ],
   "source": [
    "shotmaps_concatenated_df['Player Coordinates'][0][4]"
   ]
  },
  {
   "cell_type": "code",
   "execution_count": 25,
   "id": "d46ddd3a-ce42-471a-a372-5c915b6ab913",
   "metadata": {},
   "outputs": [],
   "source": [
    "# Apply literal_eval to the entire column to convert strings to dictionaries\n",
    "shotmaps_concatenated_df['Player Coordinates'] = shotmaps_concatenated_df['Player Coordinates'].apply(ast.literal_eval)"
   ]
  },
  {
   "cell_type": "code",
   "execution_count": 26,
   "id": "5f106322-0115-4133-b5f5-f1b1ab2663b4",
   "metadata": {},
   "outputs": [
    {
     "data": {
      "text/plain": [
       "{'x': 23.5, 'y': 57.3, 'z': 0}"
      ]
     },
     "execution_count": 26,
     "metadata": {},
     "output_type": "execute_result"
    }
   ],
   "source": [
    "shotmaps_concatenated_df['Player Coordinates'][0]"
   ]
  },
  {
   "cell_type": "markdown",
   "id": "3dc5e989-7451-40b9-8542-8069fb7fed7c",
   "metadata": {},
   "source": [
    "## 3. Exploratory Data Analysis | Summary Statistics"
   ]
  },
  {
   "cell_type": "markdown",
   "id": "0c8f80f8-03ab-4e76-ad84-361cb6cfb71f",
   "metadata": {},
   "source": [
    "### 3.1 Shotmap locations"
   ]
  },
  {
   "cell_type": "code",
   "execution_count": 27,
   "id": "cc61d6df-67e5-4148-b43e-c3410c9b14c9",
   "metadata": {},
   "outputs": [
    {
     "data": {
      "text/html": [
       "<div>\n",
       "<style scoped>\n",
       "    .dataframe tbody tr th:only-of-type {\n",
       "        vertical-align: middle;\n",
       "    }\n",
       "\n",
       "    .dataframe tbody tr th {\n",
       "        vertical-align: top;\n",
       "    }\n",
       "\n",
       "    .dataframe thead th {\n",
       "        text-align: right;\n",
       "    }\n",
       "</style>\n",
       "<table border=\"1\" class=\"dataframe\">\n",
       "  <thead>\n",
       "    <tr style=\"text-align: right;\">\n",
       "      <th></th>\n",
       "      <th>Name</th>\n",
       "      <th>Position</th>\n",
       "      <th>Outcome</th>\n",
       "      <th>Situation</th>\n",
       "      <th>Player Coordinates</th>\n",
       "      <th>Body Part</th>\n",
       "      <th>Shot Location</th>\n",
       "      <th>Shot Coordinates</th>\n",
       "      <th>Expected Goal (xG)</th>\n",
       "      <th>Expected Goal on Target (xGOT)</th>\n",
       "      <th>match_id</th>\n",
       "    </tr>\n",
       "  </thead>\n",
       "  <tbody>\n",
       "    <tr>\n",
       "      <th>0</th>\n",
       "      <td>Lionel Messi</td>\n",
       "      <td>F</td>\n",
       "      <td>save</td>\n",
       "      <td>free-kick</td>\n",
       "      <td>{'x': 23.5, 'y': 57.3, 'z': 0}</td>\n",
       "      <td>left-foot</td>\n",
       "      <td>high-right</td>\n",
       "      <td>{'x': 0, 'y': 47.2, 'z': 24.7}</td>\n",
       "      <td>0.071207</td>\n",
       "      <td>0.2324</td>\n",
       "      <td>1</td>\n",
       "    </tr>\n",
       "    <tr>\n",
       "      <th>1</th>\n",
       "      <td>Jacob Shaffelburg</td>\n",
       "      <td>M</td>\n",
       "      <td>save</td>\n",
       "      <td>set-piece</td>\n",
       "      <td>{'x': 23.3, 'y': 68.7, 'z': 0}</td>\n",
       "      <td>left-foot</td>\n",
       "      <td>low-centre</td>\n",
       "      <td>{'x': 0, 'y': 48.9, 'z': 2.5}</td>\n",
       "      <td>0.023184</td>\n",
       "      <td>0.0416</td>\n",
       "      <td>1</td>\n",
       "    </tr>\n",
       "    <tr>\n",
       "      <th>2</th>\n",
       "      <td>Lautaro Martínez</td>\n",
       "      <td>F</td>\n",
       "      <td>goal</td>\n",
       "      <td>assisted</td>\n",
       "      <td>{'x': 11.1, 'y': 57.1, 'z': 0}</td>\n",
       "      <td>right-foot</td>\n",
       "      <td>low-centre</td>\n",
       "      <td>{'x': 0, 'y': 49, 'z': 3.8}</td>\n",
       "      <td>0.594084</td>\n",
       "      <td>0.6147</td>\n",
       "      <td>1</td>\n",
       "    </tr>\n",
       "    <tr>\n",
       "      <th>3</th>\n",
       "      <td>Nicolás Otamendi</td>\n",
       "      <td>D</td>\n",
       "      <td>miss</td>\n",
       "      <td>set-piece</td>\n",
       "      <td>{'x': 3.3, 'y': 49.8, 'z': 0}</td>\n",
       "      <td>left-foot</td>\n",
       "      <td>high</td>\n",
       "      <td>{'x': 0, 'y': 50.4, 'z': 62.5}</td>\n",
       "      <td>0.345816</td>\n",
       "      <td>0.0000</td>\n",
       "      <td>1</td>\n",
       "    </tr>\n",
       "    <tr>\n",
       "      <th>4</th>\n",
       "      <td>Lautaro Martínez</td>\n",
       "      <td>F</td>\n",
       "      <td>save</td>\n",
       "      <td>assisted</td>\n",
       "      <td>{'x': 15.7, 'y': 43.2, 'z': 0}</td>\n",
       "      <td>right-foot</td>\n",
       "      <td>low-centre</td>\n",
       "      <td>{'x': 0, 'y': 49.7, 'z': 1.9}</td>\n",
       "      <td>0.401235</td>\n",
       "      <td>0.1469</td>\n",
       "      <td>1</td>\n",
       "    </tr>\n",
       "  </tbody>\n",
       "</table>\n",
       "</div>"
      ],
      "text/plain": [
       "                Name Position Outcome  Situation  \\\n",
       "0       Lionel Messi        F    save  free-kick   \n",
       "1  Jacob Shaffelburg        M    save  set-piece   \n",
       "2   Lautaro Martínez        F    goal   assisted   \n",
       "3   Nicolás Otamendi        D    miss  set-piece   \n",
       "4   Lautaro Martínez        F    save   assisted   \n",
       "\n",
       "               Player Coordinates   Body Part Shot Location  \\\n",
       "0  {'x': 23.5, 'y': 57.3, 'z': 0}   left-foot    high-right   \n",
       "1  {'x': 23.3, 'y': 68.7, 'z': 0}   left-foot    low-centre   \n",
       "2  {'x': 11.1, 'y': 57.1, 'z': 0}  right-foot    low-centre   \n",
       "3   {'x': 3.3, 'y': 49.8, 'z': 0}   left-foot          high   \n",
       "4  {'x': 15.7, 'y': 43.2, 'z': 0}  right-foot    low-centre   \n",
       "\n",
       "                 Shot Coordinates  Expected Goal (xG)  \\\n",
       "0  {'x': 0, 'y': 47.2, 'z': 24.7}            0.071207   \n",
       "1   {'x': 0, 'y': 48.9, 'z': 2.5}            0.023184   \n",
       "2     {'x': 0, 'y': 49, 'z': 3.8}            0.594084   \n",
       "3  {'x': 0, 'y': 50.4, 'z': 62.5}            0.345816   \n",
       "4   {'x': 0, 'y': 49.7, 'z': 1.9}            0.401235   \n",
       "\n",
       "   Expected Goal on Target (xGOT) match_id  \n",
       "0                          0.2324        1  \n",
       "1                          0.0416        1  \n",
       "2                          0.6147        1  \n",
       "3                          0.0000        1  \n",
       "4                          0.1469        1  "
      ]
     },
     "execution_count": 27,
     "metadata": {},
     "output_type": "execute_result"
    }
   ],
   "source": [
    "shotmaps_concatenated_df.head()"
   ]
  },
  {
   "cell_type": "markdown",
   "id": "396a05b8-6a3e-4172-ab5f-1ae694034fd5",
   "metadata": {},
   "source": [
    "#### filtering Argentina players"
   ]
  },
  {
   "cell_type": "code",
   "execution_count": 28,
   "id": "ad3274a8-7497-4497-a3a3-ce6d49af6117",
   "metadata": {},
   "outputs": [],
   "source": [
    "argentina_players = (\"Emiliano Martínez\", \"Franco Armani\", \"Gerónimo Rulli\",\n",
    "                    \"Gonzalo Montiel\", \"Nahuel Molina\", \"Leonardo Balerdi\", \"Cristian Romero\",\n",
    "                    \"Germán Pezzella\", \"Nicolás Otamendi\", \"Lisandro Martínez\", \"Marcos Acuña\",\n",
    "                    \"Nicolás Tagliafico\", \"Guido Rodríguez\", \"Leandro Paredes\", \"Alexis Mac Allister\",\n",
    "                    \"Rodrigo De Paul\", \"Exequiel Palacios\", \"Enzo Fernández\", \"Giovani Lo Celso\",\n",
    "                    \"Lionel Messi\", \"Ángel Di María\", \"Alejandro Garnacho\", \"Valentín Carboni\",\n",
    "                    \"Nicolás González\", \"Lautaro Martínez\", \"Julián Álvarez\")"
   ]
  },
  {
   "cell_type": "code",
   "execution_count": 29,
   "id": "1fd40758-e486-4639-9039-6bbc414be2da",
   "metadata": {},
   "outputs": [
    {
     "data": {
      "text/html": [
       "<div>\n",
       "<style scoped>\n",
       "    .dataframe tbody tr th:only-of-type {\n",
       "        vertical-align: middle;\n",
       "    }\n",
       "\n",
       "    .dataframe tbody tr th {\n",
       "        vertical-align: top;\n",
       "    }\n",
       "\n",
       "    .dataframe thead th {\n",
       "        text-align: right;\n",
       "    }\n",
       "</style>\n",
       "<table border=\"1\" class=\"dataframe\">\n",
       "  <thead>\n",
       "    <tr style=\"text-align: right;\">\n",
       "      <th></th>\n",
       "      <th>Name</th>\n",
       "      <th>Position</th>\n",
       "      <th>Outcome</th>\n",
       "      <th>Situation</th>\n",
       "      <th>Player Coordinates</th>\n",
       "      <th>Body Part</th>\n",
       "      <th>Shot Location</th>\n",
       "      <th>Shot Coordinates</th>\n",
       "      <th>Expected Goal (xG)</th>\n",
       "      <th>Expected Goal on Target (xGOT)</th>\n",
       "      <th>match_id</th>\n",
       "    </tr>\n",
       "  </thead>\n",
       "  <tbody>\n",
       "    <tr>\n",
       "      <th>0</th>\n",
       "      <td>Lionel Messi</td>\n",
       "      <td>F</td>\n",
       "      <td>save</td>\n",
       "      <td>free-kick</td>\n",
       "      <td>{'x': 23.5, 'y': 57.3, 'z': 0}</td>\n",
       "      <td>left-foot</td>\n",
       "      <td>high-right</td>\n",
       "      <td>{'x': 0, 'y': 47.2, 'z': 24.7}</td>\n",
       "      <td>0.071207</td>\n",
       "      <td>0.2324</td>\n",
       "      <td>1</td>\n",
       "    </tr>\n",
       "    <tr>\n",
       "      <th>2</th>\n",
       "      <td>Lautaro Martínez</td>\n",
       "      <td>F</td>\n",
       "      <td>goal</td>\n",
       "      <td>assisted</td>\n",
       "      <td>{'x': 11.1, 'y': 57.1, 'z': 0}</td>\n",
       "      <td>right-foot</td>\n",
       "      <td>low-centre</td>\n",
       "      <td>{'x': 0, 'y': 49, 'z': 3.8}</td>\n",
       "      <td>0.594084</td>\n",
       "      <td>0.6147</td>\n",
       "      <td>1</td>\n",
       "    </tr>\n",
       "    <tr>\n",
       "      <th>3</th>\n",
       "      <td>Nicolás Otamendi</td>\n",
       "      <td>D</td>\n",
       "      <td>miss</td>\n",
       "      <td>set-piece</td>\n",
       "      <td>{'x': 3.3, 'y': 49.8, 'z': 0}</td>\n",
       "      <td>left-foot</td>\n",
       "      <td>high</td>\n",
       "      <td>{'x': 0, 'y': 50.4, 'z': 62.5}</td>\n",
       "      <td>0.345816</td>\n",
       "      <td>0.0000</td>\n",
       "      <td>1</td>\n",
       "    </tr>\n",
       "    <tr>\n",
       "      <th>4</th>\n",
       "      <td>Lautaro Martínez</td>\n",
       "      <td>F</td>\n",
       "      <td>save</td>\n",
       "      <td>assisted</td>\n",
       "      <td>{'x': 15.7, 'y': 43.2, 'z': 0}</td>\n",
       "      <td>right-foot</td>\n",
       "      <td>low-centre</td>\n",
       "      <td>{'x': 0, 'y': 49.7, 'z': 1.9}</td>\n",
       "      <td>0.401235</td>\n",
       "      <td>0.1469</td>\n",
       "      <td>1</td>\n",
       "    </tr>\n",
       "    <tr>\n",
       "      <th>5</th>\n",
       "      <td>Nicolás Otamendi</td>\n",
       "      <td>D</td>\n",
       "      <td>miss</td>\n",
       "      <td>set-piece</td>\n",
       "      <td>{'x': 9.4, 'y': 46.6, 'z': 0}</td>\n",
       "      <td>head</td>\n",
       "      <td>right</td>\n",
       "      <td>{'x': 0, 'y': 39.7, 'z': 8.3}</td>\n",
       "      <td>0.220899</td>\n",
       "      <td>0.0000</td>\n",
       "      <td>1</td>\n",
       "    </tr>\n",
       "    <tr>\n",
       "      <th>6</th>\n",
       "      <td>Lionel Messi</td>\n",
       "      <td>F</td>\n",
       "      <td>miss</td>\n",
       "      <td>fast-break</td>\n",
       "      <td>{'x': 13.8, 'y': 56.4, 'z': 0}</td>\n",
       "      <td>left-foot</td>\n",
       "      <td>close-left</td>\n",
       "      <td>{'x': 0, 'y': 57.8, 'z': 2.8}</td>\n",
       "      <td>0.169258</td>\n",
       "      <td>0.0000</td>\n",
       "      <td>1</td>\n",
       "    </tr>\n",
       "    <tr>\n",
       "      <th>7</th>\n",
       "      <td>Giovani Lo Celso</td>\n",
       "      <td>M</td>\n",
       "      <td>block</td>\n",
       "      <td>assisted</td>\n",
       "      <td>{'x': 13.3, 'y': 60.8, 'z': 0}</td>\n",
       "      <td>left-foot</td>\n",
       "      <td>low-centre</td>\n",
       "      <td>{'x': 0, 'y': 51, 'z': 19}</td>\n",
       "      <td>0.052212</td>\n",
       "      <td>0.0000</td>\n",
       "      <td>1</td>\n",
       "    </tr>\n",
       "    <tr>\n",
       "      <th>10</th>\n",
       "      <td>Lionel Messi</td>\n",
       "      <td>F</td>\n",
       "      <td>save</td>\n",
       "      <td>fast-break</td>\n",
       "      <td>{'x': 12.5, 'y': 45, 'z': 0}</td>\n",
       "      <td>left-foot</td>\n",
       "      <td>low-centre</td>\n",
       "      <td>{'x': 0, 'y': 50.1, 'z': 19}</td>\n",
       "      <td>0.211307</td>\n",
       "      <td>0.0000</td>\n",
       "      <td>1</td>\n",
       "    </tr>\n",
       "    <tr>\n",
       "      <th>11</th>\n",
       "      <td>Lionel Messi</td>\n",
       "      <td>F</td>\n",
       "      <td>save</td>\n",
       "      <td>fast-break</td>\n",
       "      <td>{'x': 13.5, 'y': 34.9, 'z': 0}</td>\n",
       "      <td>left-foot</td>\n",
       "      <td>low-right</td>\n",
       "      <td>{'x': 0, 'y': 47, 'z': 1.9}</td>\n",
       "      <td>0.158272</td>\n",
       "      <td>0.3815</td>\n",
       "      <td>1</td>\n",
       "    </tr>\n",
       "    <tr>\n",
       "      <th>12</th>\n",
       "      <td>Ángel Di María</td>\n",
       "      <td>M</td>\n",
       "      <td>miss</td>\n",
       "      <td>assisted</td>\n",
       "      <td>{'x': 21.9, 'y': 69.1, 'z': 0}</td>\n",
       "      <td>left-foot</td>\n",
       "      <td>high</td>\n",
       "      <td>{'x': 0, 'y': 48.9, 'z': 73.6}</td>\n",
       "      <td>0.038446</td>\n",
       "      <td>0.0000</td>\n",
       "      <td>1</td>\n",
       "    </tr>\n",
       "  </tbody>\n",
       "</table>\n",
       "</div>"
      ],
      "text/plain": [
       "                Name Position Outcome   Situation  \\\n",
       "0       Lionel Messi        F    save   free-kick   \n",
       "2   Lautaro Martínez        F    goal    assisted   \n",
       "3   Nicolás Otamendi        D    miss   set-piece   \n",
       "4   Lautaro Martínez        F    save    assisted   \n",
       "5   Nicolás Otamendi        D    miss   set-piece   \n",
       "6       Lionel Messi        F    miss  fast-break   \n",
       "7   Giovani Lo Celso        M   block    assisted   \n",
       "10      Lionel Messi        F    save  fast-break   \n",
       "11      Lionel Messi        F    save  fast-break   \n",
       "12    Ángel Di María        M    miss    assisted   \n",
       "\n",
       "                Player Coordinates   Body Part Shot Location  \\\n",
       "0   {'x': 23.5, 'y': 57.3, 'z': 0}   left-foot    high-right   \n",
       "2   {'x': 11.1, 'y': 57.1, 'z': 0}  right-foot    low-centre   \n",
       "3    {'x': 3.3, 'y': 49.8, 'z': 0}   left-foot          high   \n",
       "4   {'x': 15.7, 'y': 43.2, 'z': 0}  right-foot    low-centre   \n",
       "5    {'x': 9.4, 'y': 46.6, 'z': 0}        head         right   \n",
       "6   {'x': 13.8, 'y': 56.4, 'z': 0}   left-foot    close-left   \n",
       "7   {'x': 13.3, 'y': 60.8, 'z': 0}   left-foot    low-centre   \n",
       "10    {'x': 12.5, 'y': 45, 'z': 0}   left-foot    low-centre   \n",
       "11  {'x': 13.5, 'y': 34.9, 'z': 0}   left-foot     low-right   \n",
       "12  {'x': 21.9, 'y': 69.1, 'z': 0}   left-foot          high   \n",
       "\n",
       "                  Shot Coordinates  Expected Goal (xG)  \\\n",
       "0   {'x': 0, 'y': 47.2, 'z': 24.7}            0.071207   \n",
       "2      {'x': 0, 'y': 49, 'z': 3.8}            0.594084   \n",
       "3   {'x': 0, 'y': 50.4, 'z': 62.5}            0.345816   \n",
       "4    {'x': 0, 'y': 49.7, 'z': 1.9}            0.401235   \n",
       "5    {'x': 0, 'y': 39.7, 'z': 8.3}            0.220899   \n",
       "6    {'x': 0, 'y': 57.8, 'z': 2.8}            0.169258   \n",
       "7       {'x': 0, 'y': 51, 'z': 19}            0.052212   \n",
       "10    {'x': 0, 'y': 50.1, 'z': 19}            0.211307   \n",
       "11     {'x': 0, 'y': 47, 'z': 1.9}            0.158272   \n",
       "12  {'x': 0, 'y': 48.9, 'z': 73.6}            0.038446   \n",
       "\n",
       "    Expected Goal on Target (xGOT) match_id  \n",
       "0                           0.2324        1  \n",
       "2                           0.6147        1  \n",
       "3                           0.0000        1  \n",
       "4                           0.1469        1  \n",
       "5                           0.0000        1  \n",
       "6                           0.0000        1  \n",
       "7                           0.0000        1  \n",
       "10                          0.0000        1  \n",
       "11                          0.3815        1  \n",
       "12                          0.0000        1  "
      ]
     },
     "execution_count": 29,
     "metadata": {},
     "output_type": "execute_result"
    }
   ],
   "source": [
    "shotmap_argentina = shotmaps_concatenated_df[shotmaps_concatenated_df.Name.isin(argentina_players)]\n",
    "shotmap_argentina.head(10)"
   ]
  },
  {
   "cell_type": "code",
   "execution_count": 30,
   "id": "f7d566e5-1eec-4daf-874d-cca487487e68",
   "metadata": {},
   "outputs": [
    {
     "name": "stdout",
     "output_type": "stream",
     "text": [
      "[(23.5, 57.3), (11.1, 57.1), (3.3, 49.8), (15.7, 43.2), (9.4, 46.6), (13.8, 56.4), (13.3, 60.8), (12.5, 45.0), (13.5, 34.9), (21.9, 69.1), (13.9, 46.8), (4.1, 62.3), (8.5, 25.7), (22.5, 67.1), (10.8, 54.0), (8.3, 67.3), (14.3, 55.3), (22.6, 30.5), (10.2, 29.4), (7.6, 45.2), (7.7, 42.5), (2.6, 51.5), (6.0, 55.6), (12.6, 61.8), (13.3, 33.1), (4.6, 46.6), (15.1, 37.4), (9.4, 65.1), (20.3, 35.8), (26.8, 38.3), (4.8, 40.3), (3.5, 63.0), (30.1, 54.8), (19.2, 46.4), (21.9, 31.0), (1.7, 36.6), (8.9, 44.2), (11.8, 39.9), (10.2, 36.4), (14.5, 30.3), (12.0, 52.4), (11.5, 50.0), (12.0, 57.3), (14.5, 32.7), (11.4, 52.1), (21.5, 70.9), (11.3, 45.5), (25.7, 33.5), (14.2, 37.0), (11.5, 50.0), (11.5, 50.0), (11.5, 50.0), (11.5, 50.0), (11.5, 50.0), (14.6, 47.1), (16.0, 46.9), (10.8, 35.8), (13.2, 38.3), (11.1, 35.6), (3.0, 42.5), (13.5, 60.9), (11.9, 45.4), (14.0, 61.7), (4.6, 50.7), (15.5, 46.6), (18.4, 46.8), (12.8, 42.5), (9.6, 62.4), (11.3, 30.5), (18.4, 71.4), (11.9, 51.0), (58.8, 63.0), (20.7, 62.5), (71.8, 55.6), (12.5, 63.8), (1.8, 37.9), (9.4, 43.2), (8.3, 51.5), (9.7, 28.4), (11.3, 45.0), (9.5, 33.1), (10.7, 47.7), (13.3, 45.2), (13.6, 53.0)]\n"
     ]
    }
   ],
   "source": [
    "# Extracting x, y values into a list\n",
    "x_coords = shotmap_argentina['Player Coordinates'].apply(lambda coord: coord['x']).tolist()\n",
    "y_coords = shotmap_argentina['Player Coordinates'].apply(lambda coord: coord['y']).tolist()\n",
    "coordinates_tuples = list(zip(x_coords, y_coords))\n",
    "print(coordinates_tuples)"
   ]
  },
  {
   "cell_type": "markdown",
   "id": "bbbc1087-a4ea-4f0e-907c-219c17b17df9",
   "metadata": {},
   "source": [
    "#### Central Tendency measures"
   ]
  },
  {
   "cell_type": "code",
   "execution_count": 31,
   "id": "81822002-63d8-4421-ab8c-a3ed188c470a",
   "metadata": {},
   "outputs": [
    {
     "name": "stdout",
     "output_type": "stream",
     "text": [
      "Average x coordinate: 13.8\n",
      "Average y coordinate: 47.9\n",
      "Median x coordinate: 11.9\n",
      "Median y coordinate: 46.8\n",
      "Midrange x coordiante: 36.8\n",
      "Midrange y coordiante: 48.6\n"
     ]
    }
   ],
   "source": [
    "print(f\"Average x coordinate: {np.mean(x_coords):.1f}\")\n",
    "print(f\"Average y coordinate: {np.mean(y_coords):.1f}\")\n",
    "print(f\"Median x coordinate: {np.median(x_coords):.1f}\")\n",
    "print(f\"Median y coordinate: {np.median(y_coords):.1f}\")\n",
    "print(f\"Midrange x coordiante: {(np.min(x_coords) + np.max(x_coords)) / 2:.1f}\")\n",
    "print(f\"Midrange y coordiante: {(np.min(y_coords) + np.max(y_coords)) / 2:.1f}\")"
   ]
  },
  {
   "cell_type": "markdown",
   "id": "6e3d875b-a73b-4112-8ac0-7c48804031f3",
   "metadata": {},
   "source": [
    "#### Dispersion measures"
   ]
  },
  {
   "cell_type": "code",
   "execution_count": 32,
   "id": "2dd5b310-7b72-4735-9f92-7374283a1980",
   "metadata": {},
   "outputs": [
    {
     "name": "stdout",
     "output_type": "stream",
     "text": [
      "Standard deviation x coordinate: 9.9\n",
      "Standard deviation y coordinate: 11.1\n",
      "variance x coordinate: 97.4\n",
      "variance y coordinate: 123.3\n"
     ]
    }
   ],
   "source": [
    "print(f\"Standard deviation x coordinate: {np.std(x_coords):.1f}\")\n",
    "print(f\"Standard deviation y coordinate: {np.std(y_coords):.1f}\")\n",
    "print(f\"variance x coordinate: {np.var(x_coords):.1f}\")\n",
    "print(f\"variance y coordinate: {np.var(y_coords):.1f}\")"
   ]
  },
  {
   "cell_type": "markdown",
   "id": "149048c8-e4f4-46c6-8686-d8a2d3f557d5",
   "metadata": {},
   "source": [
    "#### Frecuency Table and Histograms for shot locations"
   ]
  },
  {
   "cell_type": "code",
   "execution_count": 33,
   "id": "afb6baf0-637a-4433-b4b9-23293bc5d7c7",
   "metadata": {},
   "outputs": [
    {
     "data": {
      "text/plain": [
       "7"
      ]
     },
     "execution_count": 33,
     "metadata": {},
     "output_type": "execute_result"
    }
   ],
   "source": [
    "# calculating bins: sturges rule\n",
    "import math\n",
    "c = round(1 + 3.3 * math.log10(shotmap_argentina.shape[0]))\n",
    "c"
   ]
  },
  {
   "cell_type": "code",
   "execution_count": 34,
   "id": "20b44f9c-6cb0-43bc-8924-122109818062",
   "metadata": {},
   "outputs": [],
   "source": [
    "amplitude_Xcoords = round((max(x_coords) - min(x_coords)) / c, 1) + 0.02\n",
    "amplitude_Ycoords = round((max(y_coords) - min(y_coords)) / c, 1) + 0.03"
   ]
  },
  {
   "cell_type": "code",
   "execution_count": 35,
   "id": "c973139a-0608-4871-931a-b5d32902d441",
   "metadata": {},
   "outputs": [
    {
     "data": {
      "text/html": [
       "<div>\n",
       "<style scoped>\n",
       "    .dataframe tbody tr th:only-of-type {\n",
       "        vertical-align: middle;\n",
       "    }\n",
       "\n",
       "    .dataframe tbody tr th {\n",
       "        vertical-align: top;\n",
       "    }\n",
       "\n",
       "    .dataframe thead th {\n",
       "        text-align: right;\n",
       "    }\n",
       "</style>\n",
       "<table border=\"1\" class=\"dataframe\">\n",
       "  <thead>\n",
       "    <tr style=\"text-align: right;\">\n",
       "      <th></th>\n",
       "      <th>X_Interval</th>\n",
       "      <th>Y_Interval</th>\n",
       "      <th>X_Frecuency</th>\n",
       "      <th>Y_Frecuency</th>\n",
       "      <th>X_Proportion</th>\n",
       "      <th>Y_Proportion</th>\n",
       "      <th>X_Percentage</th>\n",
       "      <th>Y_Percentage</th>\n",
       "    </tr>\n",
       "  </thead>\n",
       "  <tbody>\n",
       "    <tr>\n",
       "      <th>0</th>\n",
       "      <td>(1.7, 11.72)</td>\n",
       "      <td>(25.7, 32.23)</td>\n",
       "      <td>40</td>\n",
       "      <td>7</td>\n",
       "      <td>40/84</td>\n",
       "      <td>7/84</td>\n",
       "      <td>0.476190</td>\n",
       "      <td>0.083333</td>\n",
       "    </tr>\n",
       "    <tr>\n",
       "      <th>1</th>\n",
       "      <td>(11.72, 21.74)</td>\n",
       "      <td>(32.23, 38.76)</td>\n",
       "      <td>34</td>\n",
       "      <td>15</td>\n",
       "      <td>34/84</td>\n",
       "      <td>15/84</td>\n",
       "      <td>0.404762</td>\n",
       "      <td>0.178571</td>\n",
       "    </tr>\n",
       "    <tr>\n",
       "      <th>2</th>\n",
       "      <td>(21.74, 31.76)</td>\n",
       "      <td>(38.76, 45.29)</td>\n",
       "      <td>8</td>\n",
       "      <td>12</td>\n",
       "      <td>8/84</td>\n",
       "      <td>12/84</td>\n",
       "      <td>0.095238</td>\n",
       "      <td>0.142857</td>\n",
       "    </tr>\n",
       "    <tr>\n",
       "      <th>3</th>\n",
       "      <td>(31.76, 41.78)</td>\n",
       "      <td>(45.29, 51.82)</td>\n",
       "      <td>0</td>\n",
       "      <td>22</td>\n",
       "      <td>0/84</td>\n",
       "      <td>22/84</td>\n",
       "      <td>0.000000</td>\n",
       "      <td>0.261905</td>\n",
       "    </tr>\n",
       "    <tr>\n",
       "      <th>4</th>\n",
       "      <td>(41.78, 51.8)</td>\n",
       "      <td>(51.82, 58.35)</td>\n",
       "      <td>0</td>\n",
       "      <td>12</td>\n",
       "      <td>0/84</td>\n",
       "      <td>12/84</td>\n",
       "      <td>0.000000</td>\n",
       "      <td>0.142857</td>\n",
       "    </tr>\n",
       "    <tr>\n",
       "      <th>5</th>\n",
       "      <td>(51.8, 61.82)</td>\n",
       "      <td>(58.35, 64.88)</td>\n",
       "      <td>1</td>\n",
       "      <td>10</td>\n",
       "      <td>1/84</td>\n",
       "      <td>10/84</td>\n",
       "      <td>0.011905</td>\n",
       "      <td>0.119048</td>\n",
       "    </tr>\n",
       "    <tr>\n",
       "      <th>6</th>\n",
       "      <td>(61.82, 71.84)</td>\n",
       "      <td>(64.88, 71.41)</td>\n",
       "      <td>1</td>\n",
       "      <td>6</td>\n",
       "      <td>1/84</td>\n",
       "      <td>6/84</td>\n",
       "      <td>0.011905</td>\n",
       "      <td>0.071429</td>\n",
       "    </tr>\n",
       "  </tbody>\n",
       "</table>\n",
       "</div>"
      ],
      "text/plain": [
       "       X_Interval      Y_Interval  X_Frecuency  Y_Frecuency X_Proportion  \\\n",
       "0    (1.7, 11.72)   (25.7, 32.23)           40            7        40/84   \n",
       "1  (11.72, 21.74)  (32.23, 38.76)           34           15        34/84   \n",
       "2  (21.74, 31.76)  (38.76, 45.29)            8           12         8/84   \n",
       "3  (31.76, 41.78)  (45.29, 51.82)            0           22         0/84   \n",
       "4   (41.78, 51.8)  (51.82, 58.35)            0           12         0/84   \n",
       "5   (51.8, 61.82)  (58.35, 64.88)            1           10         1/84   \n",
       "6  (61.82, 71.84)  (64.88, 71.41)            1            6         1/84   \n",
       "\n",
       "  Y_Proportion  X_Percentage  Y_Percentage  \n",
       "0         7/84      0.476190      0.083333  \n",
       "1        15/84      0.404762      0.178571  \n",
       "2        12/84      0.095238      0.142857  \n",
       "3        22/84      0.000000      0.261905  \n",
       "4        12/84      0.000000      0.142857  \n",
       "5        10/84      0.011905      0.119048  \n",
       "6         6/84      0.011905      0.071429  "
      ]
     },
     "execution_count": 35,
     "metadata": {},
     "output_type": "execute_result"
    }
   ],
   "source": [
    "# Calculate intervals with rounding\n",
    "x_intervals = [(round(min(x_coords) + i * amplitude_Xcoords, 3), \n",
    "                 round(min(x_coords) + (i + 1) * amplitude_Xcoords, 3)) \n",
    "                for i in range(c)]\n",
    "\n",
    "y_intervals = [(round(min(y_coords) + i * amplitude_Ycoords, 3), \n",
    "                 round(min(y_coords) + (i + 1) * amplitude_Ycoords, 3)) \n",
    "                for i in range(c)]\n",
    "\n",
    "\n",
    "# Create frequency counts for x and y coordinates\n",
    "frequency_x = [sum(1 for x in x_coords if interval[0] <= x < interval[1]) for interval in x_intervals]\n",
    "frequency_y = [sum(1 for y in y_coords if interval[0] <= y < interval[1]) for interval in y_intervals]\n",
    "\n",
    "# Calculate total frequencies\n",
    "total_x = sum(frequency_x)\n",
    "total_y = sum(frequency_y)\n",
    "\n",
    "# Calculate proportions and percentages\n",
    "proportion_x = [f\"{fx}/{total_x}\" for fx in frequency_x]\n",
    "proportion_y = [f\"{fy}/{total_y}\" for fy in frequency_y]\n",
    "percentage_x = [fx / total_x if total_x > 0 else 0 for fx in frequency_x]\n",
    "percentage_y = [fy / total_y if total_y > 0 else 0 for fy in frequency_y]\n",
    "\n",
    "# Create DataFrame\n",
    "data = {\n",
    "    'X_Interval': x_intervals,\n",
    "    'Y_Interval': y_intervals,\n",
    "    'X_Frecuency': frequency_x,\n",
    "    'Y_Frecuency': frequency_y,\n",
    "    'X_Proportion': proportion_x,\n",
    "    'Y_Proportion': proportion_y,\n",
    "    'X_Percentage': percentage_x,\n",
    "    'Y_Percentage': percentage_y\n",
    "}\n",
    "\n",
    "frecuency_table = pd.DataFrame(data)\n",
    "\n",
    "# Print the DataFrame\n",
    "frecuency_table\n"
   ]
  },
  {
   "cell_type": "code",
   "execution_count": 36,
   "id": "7ab89c4f-3f84-4a67-83bd-b8d398b9a3af",
   "metadata": {},
   "outputs": [
    {
     "data": {
      "image/png": "[encoded data removed]",
      "text/plain": [
       "<Figure size 1200x600 with 2 Axes>"
      ]
     },
     "metadata": {},
     "output_type": "display_data"
    }
   ],
   "source": [
    "# Plotting Histogram for X Coordinates\n",
    "plt.figure(figsize=(12, 6))\n",
    "\n",
    "# Bar plot for X Frequencies\n",
    "plt.subplot(1, 2, 1)  # 1 row, 2 columns, first subplot\n",
    "plt.bar([f\"{interval[0]} - {interval[1]}\" for interval in frecuency_table['X_Interval']], frecuency_table['X_Frecuency'], color='skyblue')\n",
    "plt.title('Histogram of X Coordinates')\n",
    "plt.xlabel('X Intervals')\n",
    "plt.ylabel('Frequency')\n",
    "plt.xticks(rotation=45)  # Rotate x labels for better visibility\n",
    "\n",
    "# Bar plot for Y Frequencies\n",
    "plt.subplot(1, 2, 2)  # 1 row, 2 columns, second subplot\n",
    "plt.bar([f\"{interval[0]} - {interval[1]}\" for interval in frecuency_table['Y_Interval']], frecuency_table['Y_Frecuency'], color='lightgreen')\n",
    "plt.title('Histogram of Y Coordinates')\n",
    "plt.xlabel('Y Intervals')\n",
    "plt.ylabel('Frequency')\n",
    "plt.xticks(rotation=45)  # Rotate x labels for better visibility\n",
    "\n",
    "plt.tight_layout()  # Adjusts subplots to fit into the figure area.\n",
    "plt.show()\n"
   ]
  },
  {
   "cell_type": "code",
   "execution_count": 37,
   "id": "876d79b9-2429-4961-a8fd-c72d69ad0396",
   "metadata": {},
   "outputs": [
    {
     "data": {
      "image/png": "[encoded data removed]",
      "text/plain": [
       "<Figure size 1200x600 with 1 Axes>"
      ]
     },
     "metadata": {},
     "output_type": "display_data"
    }
   ],
   "source": [
    "# Create the histogram using plt.hist()\n",
    "plt.figure(figsize=(12, 6))\n",
    "plt.hist(x_coords, bins=c, alpha=0.5, label='X Coordinates', color='skyblue', edgecolor='black')\n",
    "plt.hist(y_coords, bins=c, alpha=0.5, label='Y Coordinates', color='lightgreen', edgecolor='black')\n",
    "plt.title('Overlayed Histogram of X and Y Coordinates')\n",
    "plt.xlabel('Value')\n",
    "plt.ylabel('Frequency')\n",
    "plt.legend()\n",
    "\n",
    "plt.tight_layout()\n",
    "plt.show()\n"
   ]
  },
  {
   "cell_type": "code",
   "execution_count": 38,
   "id": "6f4fbaaa-6102-4015-8cba-4c191bf76d86",
   "metadata": {},
   "outputs": [
    {
     "data": {
      "image/png": "[encoded data removed]",
      "text/plain": [
       "<Figure size 1300x800 with 6 Axes>"
      ]
     },
     "metadata": {},
     "output_type": "display_data"
    }
   ],
   "source": [
    "rivals = ('Canada', 'Chile', 'Peru', 'Ecuador', 'Canada', 'Colombia')\n",
    "\n",
    "def generateCombinedShotmaps(ax, shotmap_df, f_argentinaplayers, rival, match_number):\n",
    "    # create pitch\n",
    "    pitch = Pitch(\n",
    "        pad_right=0.5,\n",
    "        pitch_type='statsbomb', \n",
    "        line_color='#c7d5cc',\n",
    "        pitch_color='#22312b',\n",
    "        goal_alpha=0.5,\n",
    "        goal_type='box',\n",
    "    )\n",
    "    \n",
    "    pitch.draw(ax=ax)\n",
    "    \n",
    "    # scatter the shots\n",
    "    for _, row in shotmap_df.iterrows():\n",
    "        coordinate_to_dict = ast.literal_eval(row['Player Coordinates'])\n",
    "        x = coordinate_to_dict['x']\n",
    "        y = coordinate_to_dict['y']\n",
    "        if row.Name in f_argentinaplayers:\n",
    "            pitch.scatter(x, y, s=row['Expected Goal (xG)']*850, c='cyan', marker='o', alpha=0.4, ax=ax)\n",
    "        else:\n",
    "            pitch.scatter(120-x, 80-y, s=row['Expected Goal (xG)']*850, c='coral', marker='o', alpha=0.4, ax=ax)\n",
    "\n",
    "    ax.text(5, 5, 'Argentina shots', color='white', size=12)\n",
    "    ax.text(80, 5, rival+' shots', color='white', size=12)\n",
    "    ax.set_title(f'Match {match_number}' , color='white')\n",
    "\n",
    "# Define the number of rows and columns\n",
    "n_rows = 2\n",
    "n_cols = 3\n",
    "\n",
    "# Create a grid of subplots\n",
    "fig, axes = plt.subplots(n_rows, n_cols, figsize=(13, 8), constrained_layout=True)\n",
    "fig.patch.set_facecolor('#22312b')\n",
    "\n",
    "# Flatten the axes array for easy iteration\n",
    "axes = axes.flatten()\n",
    "\n",
    "# Generate each shot map\n",
    "for i in range(len(axes)):\n",
    "    generateCombinedShotmaps(axes[i], shotmap_dfs[i], argentina_players, rivals[i], i+1)\n",
    "\n",
    "# Hide any unused subplots \n",
    "for j in range(len(shotmap_dfs), len(axes)):\n",
    "    axes[j].axis('off')\n",
    "\n",
    "plt.show()\n"
   ]
  },
  {
   "cell_type": "markdown",
   "id": "6d9b81d9-399e-4d96-8e8b-fb74a4b1e8fd",
   "metadata": {},
   "source": [
    "## 4. Hypothesis Testing"
   ]
  },
  {
   "cell_type": "markdown",
   "id": "c0895b90-6662-4a4e-adf9-9cf408727a3f",
   "metadata": {},
   "source": [
    "### Improvement Over Time Hypothesis"
   ]
  },
  {
   "cell_type": "code",
   "execution_count": 39,
   "id": "2d6ce884-b9aa-4564-a612-d119fcf69203",
   "metadata": {},
   "outputs": [],
   "source": [
    "stats_concatenated_df['match_id'] = stats_concatenated_df['match_id'].astype(int)"
   ]
  },
  {
   "cell_type": "code",
   "execution_count": 40,
   "id": "a2cfaa0a-daf6-422d-9588-603fd82f9a99",
   "metadata": {},
   "outputs": [],
   "source": [
    "# Split the DataFrame based on the integer 'match_id' column\n",
    "groups_phase_df = stats_concatenated_df[stats_concatenated_df['match_id'].between(1, 3)]\n",
    "ko_stage_df = stats_concatenated_df[stats_concatenated_df['match_id'].between(4, 6)]"
   ]
  },
  {
   "cell_type": "code",
   "execution_count": 41,
   "id": "2d62ac3f-c3db-407a-9520-c331ae45cf20",
   "metadata": {},
   "outputs": [
    {
     "name": "stdout",
     "output_type": "stream",
     "text": [
      "\n",
      "Groups Phase Averages:\n",
      "Big chances scored: 1.7\n",
      "Shots on target: 8.0\n",
      "Ball possession: 66.3\n",
      "Expected goals: 2.7\n",
      "Big chances missed: 4.3\n",
      "Accurate passes: 530.0\n",
      "\n",
      "Knockout Stage Averages:\n",
      "Big chances scored: 1.3\n",
      "Shots on target: 3.7\n",
      "Ball possession: 49.0\n",
      "Expected goals: 1.4\n",
      "Big chances missed: 0.3\n",
      "Accurate passes: 369.0\n"
     ]
    }
   ],
   "source": [
    "# Define a function to calculate average for a given statistic and phase\n",
    "def calculate_average_stat(df, statistic, phase):\n",
    "    phase_df = df[(df['Statistic'] == statistic) & (df['Period'] == 'Full Match')]\n",
    "    return phase_df['Home'].mean()\n",
    "\n",
    "avg_stats = {\n",
    "    \"Groups Phase\": {},\n",
    "    \"Knockout Stage\": {}\n",
    "}\n",
    "\n",
    "metrics = ['Big chances scored', 'Shots on target', 'Ball possession', \n",
    "           'Expected goals', 'Big chances missed', 'Accurate passes']\n",
    "\n",
    "for metric in metrics:\n",
    "    avg_stats[\"Groups Phase\"][metric] = calculate_average_stat(groups_phase_df, metric, 'Groups Phase')\n",
    "    avg_stats[\"Knockout Stage\"][metric] = calculate_average_stat(ko_stage_df, metric, 'Knockout Stage')\n",
    "\n",
    "for phase, stats in avg_stats.items():\n",
    "    print(f\"\\n{phase} Averages:\")\n",
    "    for stat, avg in stats.items():\n",
    "        print(f\"{stat}: {avg:.1f}\")\n"
   ]
  },
  {
   "cell_type": "markdown",
   "id": "de9fc7a7-781b-476e-986f-7c7d1bfe7a55",
   "metadata": {},
   "source": [
    "### Hypothesis Test"
   ]
  },
  {
   "cell_type": "markdown",
   "id": "27879c90-998b-4ad9-9b2f-9bb86a00e8ca",
   "metadata": {},
   "source": [
    "#### Implementation\n",
    "\n",
    "   - **Null Hypothesis (H_0)**: The mean of each performance metric is the same in the group stage and knockout stage.\n",
    "   - **Alternative Hypothesis (H_1)**: The mean of each performance metric differs between the group stage and knockout stage.\n",
    "\n",
    "   - I defined a significance threshold of 0.05."
   ]
  },
  {
   "cell_type": "code",
   "execution_count": 42,
   "id": "c6fe8513-7073-4682-9bf7-4c638cfaa05c",
   "metadata": {},
   "outputs": [
    {
     "name": "stdout",
     "output_type": "stream",
     "text": [
      "Big chances scored: t-statistic = 0.71, p-value = 0.519\n",
      "Result: No significant difference between group stage and knockout stage for 'Big chances scored' (p >= 0.05)\n",
      "\n",
      "Shots on target: t-statistic = 2.77, p-value = 0.052\n",
      "Result: No significant difference between group stage and knockout stage for 'Shots on target' (p >= 0.05)\n",
      "\n",
      "Ball possession: t-statistic = 3.93, p-value = 0.030\n",
      "Result: Significant difference between group stage and knockout stage for 'Ball possession' (p < 0.05)\n",
      "\n",
      "Expected goals: t-statistic = 2.79, p-value = 0.069\n",
      "Result: No significant difference between group stage and knockout stage for 'Expected goals' (p >= 0.05)\n",
      "\n",
      "Big chances missed: t-statistic = 2.68, p-value = 0.104\n",
      "Result: No significant difference between group stage and knockout stage for 'Big chances missed' (p >= 0.05)\n",
      "\n",
      "Accurate passes: t-statistic = 4.18, p-value = 0.015\n",
      "Result: Significant difference between group stage and knockout stage for 'Accurate passes' (p < 0.05)\n",
      "\n"
     ]
    }
   ],
   "source": [
    "from scipy.stats import ttest_ind\n",
    "\n",
    "def hypothesis_test(groups_df, knockout_df, metric):\n",
    "    group_metric_values = groups_df[(groups_df['Statistic'] == metric) & (groups_df['Period'] == 'Full Match')]['Home']\n",
    "    ko_metric_values = knockout_df[(knockout_df['Statistic'] == metric) & (knockout_df['Period'] == 'Full Match')]['Home']\n",
    "    \n",
    "    t_stat, p_value = ttest_ind(group_metric_values, ko_metric_values, equal_var=False)\n",
    "    \n",
    "    print(f\"{metric}: t-statistic = {t_stat:.2f}, p-value = {p_value:.3f}\")\n",
    "    if p_value < 0.05:\n",
    "        print(f\"Result: Significant difference between group stage and knockout stage for '{metric}' (p < 0.05)\\n\")\n",
    "    else:\n",
    "        print(f\"Result: No significant difference between group stage and knockout stage for '{metric}' (p >= 0.05)\\n\")\n",
    "\n",
    "# Metrics to test\n",
    "metrics = ['Big chances scored', 'Shots on target', 'Ball possession', \n",
    "           'Expected goals', 'Big chances missed', 'Accurate passes']\n",
    "\n",
    "# Run hypothesis test for each metric\n",
    "for metric in metrics:\n",
    "    hypothesis_test(groups_phase_df, ko_stage_df, metric)\n",
    "\n"
   ]
  },
  {
   "cell_type": "markdown",
   "id": "0a4d84e4-c8a9-4609-aaeb-b57057f486af",
   "metadata": {},
   "source": [
    "### Conclusion"
   ]
  },
  {
   "cell_type": "markdown",
   "id": "53b2f5eb-4354-41da-bddc-49fc0ea79b05",
   "metadata": {},
   "source": [
    "The shotmap analysis indicates that players predominantly take shots from central positions close to the goal and within the penalty box. Outliers are not significantly distant from the primary cluster of shot locations. The scatterplot, with circle sizes representing expected goal (xG) values, shows that most of the larger circles are concentrated in these central areas, highlighting higher xG opportunities in these positions.\n",
    "\n",
    "Regarding the team's performance metrics, the hypothesis testing indicates a substantial decrease in ball possession from the group phase to the knockout stage. This decline is mirrored in the accuracy of passes, which also dropped in the knockout stage, suggesting that reduced pass accuracy contributed to the drop in ball possession.\n",
    "\n",
    "#### Next Steps\n",
    "This dataset holds additional untapped potential for further analysis. Future directions could include:\n",
    "* Evaluating the effectiveness of expected goals\n",
    "* Identifying the optimal shot locations for scoring\n",
    "* Analyzing defensive metrics such as tackles, interceptions, and blocks to understand Argentina's defensive strengths and weaknesses in each tournament stage"
   ]
  }
 ],
 "metadata": {
  "kernelspec": {
   "display_name": "Python 3 (ipykernel)",
   "language": "python",
   "name": "python3"
  },
  "language_info": {
   "codemirror_mode": {
    "name": "ipython",
    "version": 3
   },
   "file_extension": ".py",
   "mimetype": "text/x-python",
   "name": "python",
   "nbconvert_exporter": "python",
   "pygments_lexer": "ipython3",
   "version": "3.11.4"
  }
 },
 "nbformat": 4,
 "nbformat_minor": 5
}
